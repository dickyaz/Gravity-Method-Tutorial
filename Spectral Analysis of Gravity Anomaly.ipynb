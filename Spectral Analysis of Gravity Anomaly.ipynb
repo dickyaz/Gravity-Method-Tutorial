{
 "cells": [
  {
   "cell_type": "markdown",
   "metadata": {},
   "source": [
    "# Spectral Analysis of Gravity Anomaly\n",
    "Gravity Method Tutorial #2\n",
    "\n",
    "<b> Dicky Ahmad Zaky </b>\n",
    "<br> Geophysical Engineering Department\n",
    "<br> Universitas Pertamina"
   ]
  },
  {
   "cell_type": "markdown",
   "metadata": {},
   "source": [
    "#### Introduction\n",
    "\n",
    "The objective of this tutorial is to do spectral analysis of gravity anomaly, which is useful for\n",
    "1. Obtaining the cut off wavenumber ($k$) between low $k$ response of deep source anomaly and high $k$ response of shallow source anomaly. \n",
    "2. Estimating depth of source anomaly by determine the slope of response spectra\n",
    "\n",
    "First, Let's see the graph below. \n",
    "\n",
    "<img src='https://chi01pap002files.storage.live.com/y4m_4KtY0GYJfHmBLKg4Bsd9Zf7_cycwAABZCK8EJJZAIfa6-vYyW8Wi-NQCpaW1MaY2S2_SAuP1vKPsXrJ6hzaQLRPf6c8F0z0ALF21-6GJVtpgkYwkGxKKQxIrECk8jTVpb5GIB5hHtApHywmSwjsdZ1aH629x9Bs8qSvEWIvOfm7OP_TCmLXs5a088NqoEM6?width=660&height=398&cropmode=none'> \n",
    "\n",
    "The graph of Gravity Anomaly Spectra figure the linear realtionship between wavenumber ($k$) and log power of amplitude spectrum ($ln A$), which describe by the equation, $(z_0 - z')$ is depth of the anomaly source. Therefore, we will obtained linear trend for some range of $k$. Linear trend with lower $k$ and steeper gradient is corelated with shalower depth, while trend with higher $k$ and nearly flat gradient is corelated with deeper depth of source."
   ]
  },
  {
   "cell_type": "markdown",
   "metadata": {},
   "source": [
    "#### Define the parameters of 2 spheres\n",
    "\n",
    "Our model will be build using 2 spheres which reperesent 2 type of source anomaly, regional and local.\n",
    "First we define the paramaters and calculate the volume of the spheres.\n",
    "\n",
    "Sphere #1 (Local Source)\n",
    "<br> Contras Density, $\\Delta \\rho_1= 300$ $kg/m^3$; \n",
    "<br> Radius of Sphere, $R_1 = 50$ $m$; \n",
    "<br> Depth of the buried sphere, $Z_1 = 200$ $m$; \n",
    "\n",
    "Sphere #2 (Regional Source)\n",
    "<br> Contras Density, $\\Delta \\rho_2 = 500$ $kg/m^3$; \n",
    "<br> Radius of Sphere, $R_2 = 200$ $m$; \n",
    "<br> Depth of the buried sphere, $Z_2 = 1000$ $m$; "
   ]
  },
  {
   "cell_type": "code",
   "execution_count": null,
   "metadata": {},
   "outputs": [],
   "source": [
    "import numpy as np\n",
    "\n",
    "rho1 = \n",
    "r1 = \n",
    "z1 = \n",
    "v1 = \n",
    "\n",
    "rho2 = \n",
    "r2 = \n",
    "z2 = \n",
    "v2 = "
   ]
  },
  {
   "cell_type": "markdown",
   "metadata": {},
   "source": [
    "#### Define the parameter of profile line\n",
    "\n",
    "Length of the line, $L = 5000$ $m$\n",
    "<br> Space of the station, $dL = 20$ $m$\n",
    "<br> Location of the sphere #1, $s_1 = 1500$ $m$\n",
    "<br> Location of the sphere #2, $s_2 = 2500$ $m$"
   ]
  },
  {
   "cell_type": "code",
   "execution_count": null,
   "metadata": {},
   "outputs": [],
   "source": [
    "L = \n",
    "dL = \n",
    "s1 = \n",
    "s2 = "
   ]
  },
  {
   "cell_type": "markdown",
   "metadata": {},
   "source": [
    "#### Forward Modeling\n",
    "\n",
    "Calculate $\\Delta g$ at every station for each sphere model, and then sum it up at each station to obtained the combined response."
   ]
  },
  {
   "cell_type": "code",
   "execution_count": null,
   "metadata": {},
   "outputs": [],
   "source": [
    "G = 6.673 * 1e-11 # Gravitational Constant\n",
    "dx = np.arange(0, L, dL) # Matrix of station location\n",
    "\n",
    "x1 = dx - s1 # Horizontal distance of station to sphere #1\n",
    "m1 = x1**2 + z1**2\n",
    "n1 = m1 ** 1.5\n",
    "g1 = G * rho1 * v1 *z1 / n1 * 1e5 # m/s^2 -> mGal \n",
    "\n",
    "\n",
    "x2 = dx - s2 # Horizontal distance of station to sphere #2\n",
    "m2 = x2**2 + z2**2\n",
    "n2 = m2 ** 1.5\n",
    "g2 = G * rho2 * v2 *z2 / n2 * 1e5 # m/s^2 -> mGal \n",
    "\n",
    "g = g1 + g2"
   ]
  },
  {
   "cell_type": "markdown",
   "metadata": {},
   "source": [
    "#### Plotting the Anomaly\n",
    "\n",
    "Using function plot to produce stacked graph between the anomaly profile and the model."
   ]
  },
  {
   "cell_type": "code",
   "execution_count": null,
   "metadata": {
    "scrolled": true
   },
   "outputs": [],
   "source": [
    "import matplotlib.pyplot as plt\n",
    "\n",
    "p = np.arange(0, 360, 1)  # angle in degree\n",
    "q = np.array(p * np.pi / 180)  # angle in radian\n",
    "\n",
    "fig, (ax1, ax2) = plt.subplots(2, 1, sharex = True)\n",
    "ax1.plot(dx, g, \"-\")\n",
    "ax1.grid()\n",
    "ax1.set_ylabel(\"Gravity Anomaly (mGal)\")\n",
    "ax1.set_title(\"Gravity Anomaly of Burried Sphere Model\")\n",
    "\n",
    "ax2.fill(r1 * np.cos(q) + s1, r1 * np.sin(q) + z1, \"-\")\n",
    "ax2.fill(r2 * np.cos(q) + s2, r2 * np.sin(q) + z2, \"-\")\n",
    "ax2.axis('equal')\n",
    "ax2.invert_yaxis()\n",
    "ax2.grid()\n",
    "ax2.set_xlabel(\"Distance (m)\")\n",
    "ax2.set_ylabel(\"Depth (m)\")\n",
    "\n",
    "plt.show()"
   ]
  },
  {
   "cell_type": "markdown",
   "metadata": {},
   "source": [
    "#### Fourier Transform\n",
    "\n",
    "Using fft function to obtained the spectra of the combined response. "
   ]
  },
  {
   "cell_type": "code",
   "execution_count": null,
   "metadata": {},
   "outputs": [],
   "source": [
    "A = np.fft.fft(g) #using fft function, obtained the amplitude\n",
    "A = np.abs(A) #absolute the imaginary part\n",
    "A = A[0:int(np.floor(len(A)/2))] #cut off the mirrored amplitude\n",
    "k = np.linspace(0, 1, len(A))/(2*dL) #generating the wavenumber (k)\n",
    "\n",
    "plt.plot(k, np.log(A),'.')\n",
    "plt.xlabel('k (rad/m)')\n",
    "plt.ylabel('ln A')\n",
    "\n",
    "plt.show()"
   ]
  },
  {
   "cell_type": "markdown",
   "metadata": {},
   "source": [
    "#### Exercise\n",
    "\n",
    "Try this exercise by using the spectra \n",
    "1. Identify two linear trend data spectra.\n",
    "2. Estimate the depth of the source anomaly by determine the slope of two trend data spectra and compare it with true depth of the model.\n",
    "3. Varying the space of the station, do you always get the two linear trend data? if don't, what is that mean?\n",
    "4. Determine the cut off wavenumber (k), regional-local boundary.\n",
    "5. Calculate Window width (N) for moving average using cut off wavenumber (k). $N = 2\\pi / k \\Delta x$"
   ]
  },
  {
   "cell_type": "code",
   "execution_count": null,
   "metadata": {},
   "outputs": [],
   "source": []
  }
 ],
 "metadata": {
  "kernelspec": {
   "display_name": "Python 3",
   "language": "python",
   "name": "python3"
  },
  "language_info": {
   "codemirror_mode": {
    "name": "ipython",
    "version": 3
   },
   "file_extension": ".py",
   "mimetype": "text/x-python",
   "name": "python",
   "nbconvert_exporter": "python",
   "pygments_lexer": "ipython3",
   "version": "3.6.9"
  }
 },
 "nbformat": 4,
 "nbformat_minor": 2
}
