{
 "cells": [
  {
   "cell_type": "markdown",
   "metadata": {},
   "source": [
    "# Forward Modeling Gravity\n",
    "Gravity Method Tutorial #1\n",
    "\n",
    "<b> Dicky Ahmad Zaky </b>\n",
    "<br> Geophysical Engineering Department\n",
    "<br> Universitas Pertamina"
   ]
  },
  {
   "cell_type": "markdown",
   "metadata": {},
   "source": [
    "#### Introduction\n",
    "\n",
    "The objective of this tutorial is to do forward modeling of simple model (sphere) gravity anomaly using python. \n",
    "First, Let's see the Ilustration below. "
   ]
  },
  {
   "cell_type": "markdown",
   "metadata": {},
   "source": [
    "<img src=https://upertamina-my.sharepoint.com/personal/dicky_az_upertamina_onmicrosoft_com/Documents/Documents/Pictures/Buried%20Sphere%20%20Model%20-%20Gravity.PNG alt=\"Drawing\" style=\"width: 600px.\"/>"
   ]
  },
  {
   "cell_type": "markdown",
   "metadata": {},
   "source": [
    "The figure shows the buried sphere model with contras density $\\Delta \\rho$. The gravitational acceleration anomaly at observation point $P$ caused by the sphere is $\\Delta g_r$, so the vertical component will be $\\Delta g$. We can compute the $\\Delta g$ by using this equation\n",
    "\n",
    "\n",
    "\\begin{align*}\n",
    "\\Delta g = \\frac{G z \\Delta \\rho V}{(x^2+z^2)^{3/2}}\n",
    "\\end{align*}\n",
    "\n",
    "\n",
    "To obtained gravitational acceleration anomaly over a the buried sphere we could use the equation above and varying the distances $x$. \n"
   ]
  },
  {
   "cell_type": "markdown",
   "metadata": {},
   "source": [
    "#### Define the parameter of sphere\n",
    "\n",
    "Contras Density, $\\Delta \\rho = 250$ $kg/m^3$; \n",
    "<br> Radius of Sphere, $R = 50$ $m$; \n",
    "<br> Depth of the buried sphere, $Z = 100$ $m$; "
   ]
  },
  {
   "cell_type": "code",
   "execution_count": null,
   "metadata": {},
   "outputs": [],
   "source": [
    "rho = \n",
    "r = \n",
    "z = "
   ]
  },
  {
   "cell_type": "markdown",
   "metadata": {},
   "source": [
    "Calculate the volume of sphere"
   ]
  },
  {
   "cell_type": "code",
   "execution_count": null,
   "metadata": {},
   "outputs": [],
   "source": [
    "import numpy as np\n",
    "v = 4 / 3 * np.pi * r**3"
   ]
  },
  {
   "cell_type": "markdown",
   "metadata": {},
   "source": [
    "#### Define the parameter of profile line\n",
    "\n",
    "Length of the line, $L = 1000$ $m$\n",
    "<br> Space of the station, $dL = 10$ $m$\n",
    "<br> Location of the sphere, $s = 500$ $m$"
   ]
  },
  {
   "cell_type": "code",
   "execution_count": null,
   "metadata": {},
   "outputs": [],
   "source": [
    "L = \n",
    "dL = \n",
    "s = "
   ]
  },
  {
   "cell_type": "markdown",
   "metadata": {},
   "source": [
    "#### Forward Modeling\n",
    "\n",
    "By using the equation above, we will calculate every $\\Delta g$ at every station. For the calculation, we will using vectorization rather than iteration."
   ]
  },
  {
   "cell_type": "code",
   "execution_count": null,
   "metadata": {},
   "outputs": [],
   "source": [
    "G = 6.673 * 1e-11 # Gravitational Constant\n",
    "dx = np.arange(0, L, dL) # Matrix of station location\n",
    "x = dx - s # Horizontal distance of station to sphere\n",
    "\n",
    "m = x**2 + z**2\n",
    "n = m ** 1.5\n",
    "g = G * rho * v *z / n\n * 1e5 # m/s^2 -> mGal"
   ]
  },
  {
   "cell_type": "markdown",
   "metadata": {},
   "source": [
    "#### Plotting the Anomaly\n",
    "\n",
    "Using function plot to produce the anomaly profile"
   ]
  },
  {
   "cell_type": "code",
   "execution_count": null,
   "metadata": {},
   "outputs": [],
   "source": [
    "import matplotlib.pyplot as plt\n",
    "\n",
    "plt.plot(dx, g, '-')\n",
    "plt.title('Gravity Anomaly of Burried Sphere Model')\n",
    "plt.ylabel('Gravity Anomaly (mGal)')\n",
    "plt.xlabel('Distance (m)')\n",
    "plt.show()\n"
   ]
  },
  {
   "cell_type": "markdown",
   "metadata": {},
   "source": [
    "We could also produce the sphere model figure and arrange it below the anomaly profile"
   ]
  },
  {
   "cell_type": "code",
   "execution_count": null,
   "metadata": {},
   "outputs": [],
   "source": [
    "p = np.arange(0, 360, 1)  # angle in degree\n",
    "q = np.array(p * np.pi / 180)  # angle in radian\n",
    "\n",
    "fig, (ax1, ax2) = plt.subplots(2, 1, sharex = True)\n",
    "ax1.plot(dx, g, \".\")\n",
    "ax1.grid()\n",
    "ax1.set_ylabel(\"Gravity Anomaly (mGal)\")\n",
    "ax1.set_title(\"Gravity Anomaly of Burried Sphere Model\")\n",
    "\n",
    "ax2.fill(r * np.cos(q) + s, r * np.sin(q) + z, \"-\")\n",
    "ax2.axis('equal')\n",
    "ax2.invert_yaxis()\n",
    "ax2.grid()\n",
    "ax2.set_xlabel(\"Distance (m)\")\n",
    "ax2.set_ylabel(\"Depth (m)\")\n",
    "\n",
    "plt.show()"
   ]
  },
  {
   "cell_type": "markdown",
   "metadata": {},
   "source": [
    "#### Exercise\n",
    "\n",
    "Let's playing around with the model\n",
    "1. Varying the value of contrass density: try negative value, increasing and decrasing the value.\n",
    "2. Varying the depth of the buried sphere: make itu shallower and deeper.\n",
    "3. Varying the location of the sphere.\n",
    "4. Varying the space of the station.\n",
    "5. How about adding new sphere with the differnt contrass density?"
   ]
  },
  {
   "cell_type": "code",
   "execution_count": null,
   "metadata": {},
   "outputs": [],
   "source": []
  }
 ],
 "metadata": {
  "kernelspec": {
   "display_name": "Python 3",
   "language": "python",
   "name": "python3"
  },
  "language_info": {
   "codemirror_mode": {
    "name": "ipython",
    "version": 3
   },
   "file_extension": ".py",
   "mimetype": "text/x-python",
   "name": "python",
   "nbconvert_exporter": "python",
   "pygments_lexer": "ipython3",
   "version": "3.6.9"
  }
 },
 "nbformat": 4,
 "nbformat_minor": 2
}
